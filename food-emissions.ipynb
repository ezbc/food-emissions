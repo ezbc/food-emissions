{
 "nbformat": 4,
 "nbformat_minor": 2,
 "metadata": {
  "language_info": {
   "name": "python",
   "codemirror_mode": {
    "name": "ipython",
    "version": 3
   },
   "version": "3.7.5-final"
  },
  "orig_nbformat": 2,
  "file_extension": ".py",
  "mimetype": "text/x-python",
  "name": "python",
  "npconvert_exporter": "python",
  "pygments_lexer": "ipython3",
  "version": 3,
  "kernelspec": {
   "name": "python3",
   "display_name": "Python 3"
  }
 },
 "cells": [
  {
   "cell_type": "code",
   "execution_count": 16,
   "metadata": {},
   "outputs": [],
   "source": [
    "import pandas as pd\n",
    "import requests\n",
    "from envs import env\n",
    "from jsonpath_rw import jsonpath, parse\n",
    "from dataclasses import dataclass"
   ]
  },
  {
   "cell_type": "code",
   "execution_count": 24,
   "metadata": {},
   "outputs": [],
   "source": [
    "DATA_GOV_API_KEY=env(\"DATA_GOV_API_KEY\")\n",
    "DATA_GOV_API_KEY=\"kxt1UdiT7CfYrNyBcmn0eWiUms3MyUCmBmBg6KKU\""
   ]
  },
  {
   "cell_type": "code",
   "execution_count": 25,
   "metadata": {},
   "outputs": [
    {
     "data": {
      "text/plain": "array(['Wheat & Rye (Bread)', 'Maize (Meal)', 'Barley (Beer)', 'Oatmeal',\n       'Rice', 'Potatoes', 'Cassava', 'Cane Sugar', 'Beet Sugar',\n       'Other Pulses', 'Peas', 'Nuts', 'Groundnuts', 'Soymilk', 'Tofu',\n       'Soybean Oil', 'Palm Oil', 'Sunflower Oil', 'Rapeseed Oil',\n       'Olive Oil', 'Tomatoes', 'Onions & Leeks', 'Root Vegetables',\n       'Brassicas', 'Other Vegetables', 'Citrus Fruit', 'Bananas',\n       'Apples', 'Berries & Grapes', 'Wine', 'Other Fruit', 'Coffee',\n       'Dark Chocolate', 'Beef (beef herd)', 'Beef (dairy herd)',\n       'Lamb & Mutton', 'Pig Meat', 'Poultry Meat', 'Milk', 'Cheese',\n       'Eggs', 'Fish (farmed)', 'Shrimps (farmed)'], dtype=object)"
     },
     "execution_count": 25,
     "metadata": {},
     "output_type": "execute_result"
    }
   ],
   "source": [
    "emissions_df = pd.read_csv('./data/GHG-emissions-by-life-cycle-stage-OurWorldinData-upload.csv')\n",
    "emissions_df['Food product'].values"
   ]
  },
  {
   "cell_type": "code",
   "execution_count": 26,
   "metadata": {},
   "outputs": [],
   "source": [
    "# create mapping of GHG food groups to FDC IDs\n",
    "@dataclass\n",
    "class GHG_FDC_MAP:\n",
    "    ghg_product_name: str\n",
    "    fdc_id: int\n",
    "\n",
    "GHG_FDC_MAPPING = [\n",
    "    GHG_FDC_MAP(\n",
    "        ghg_product_name='Wheat & Rye (Bread)', \n",
    "        fdc_id=746760,\n",
    "    ),\n",
    "    # 'Maize (Meal)', 'Barley (Beer)', 'Oatmeal',\n",
    "    #    'Rice', 'Potatoes', 'Cassava', 'Cane Sugar', 'Beet Sugar',\n",
    "    #    'Other Pulses', 'Peas', 'Nuts', 'Groundnuts', 'Soymilk', 'Tofu',\n",
    "    #    'Soybean Oil', 'Palm Oil', 'Sunflower Oil', 'Rapeseed Oil',\n",
    "    #    'Olive Oil', 'Tomatoes', 'Onions & Leeks', 'Root Vegetables',\n",
    "    #    'Brassicas', 'Other Vegetables', 'Citrus Fruit', 'Bananas',\n",
    "    #    'Apples', 'Berries & Grapes', 'Wine', 'Other Fruit', 'Coffee',\n",
    "    #    'Dark Chocolate', 'Beef (beef herd)', 'Beef (dairy herd)',\n",
    "    #    'Lamb & Mutton', 'Pig Meat', 'Poultry Meat', 'Milk', 'Cheese',\n",
    "    #    'Eggs', 'Fish (farmed)', 'Shrimps (farmed)'\n",
    "\n",
    "\n",
    "]"
   ]
  },
  {
   "cell_type": "code",
   "execution_count": 27,
   "metadata": {},
   "outputs": [],
   "source": [
    "fdc_details = []\n",
    "for food in GHG_FDC_MAPPING:\n",
    "    fdc_detail_response = requests.get(f\"https://api.nal.usda.gov/fdc/v1/{food.fdc_id}?api_key={DATA_GOV_API_KEY}\")\n",
    "    fdc_detail = fdc_detail_response.json()\n",
    "    fdc_details.append(fdc_detail)\n",
    "    "
   ]
  },
  {
   "cell_type": "code",
   "execution_count": 28,
   "metadata": {},
   "outputs": [
    {
     "data": {
      "text/plain": "'Fatty acids, total trans-dienoic',\n     'rank': 15601,\n     'unitName': 'g'},\n    'foodNutrientDerivation': {'id': 4,\n     'code': 'AS',\n     'description': 'Summed',\n     'foodNutrientSource': {'id': 1,\n      'code': '1',\n      'description': 'Analytical or derived from analytical'}},\n    'amount': 0.011},\n   {'type': 'FoodNutrient',\n    'id': 8514127,\n    'nutrient': {'id': 1306,\n     'number': '665',\n     'name': '18:2 t not further defined',\n     'rank': 15610,\n     'unitName': 'g'},\n    'dataPoints': 2,\n    'foodNutrientDerivation': {'id': 1,\n     'code': 'A',\n     'description': 'Analytical',\n     'foodNutrientSource': {'id': 1,\n      'code': '1',\n      'description': 'Analytical or derived from analytical'}},\n    'max': 0.011,\n    'min': 0.011,\n    'median': 0.011,\n    'nutrientAnalysisDetails': [{'subSampleId': 320386,\n      'amount': 0.011,\n      'nutrientId': 1306,\n      'nutrientAcquisitionDetails': [{'sampleUnitId': 320358,\n        'purchaseDate': '7/8/2011',\n        'storeCity': 'Greeley',\n        'storeState': 'CO'},\n       {'sampleUnitId': 320359,\n        'purchaseDate': '7/8/2011',\n        'storeCity': 'Greeley',\n        'storeState': 'CO'},\n       {'sampleUnitId': 320369,\n        'purchaseDate': '7/8/2011',\n        'storeCity': 'Greeley',\n        'storeState': 'CO'},\n       {'sampleUnitId': 320370,\n        'purchaseDate': '7/8/2011',\n        'storeCity': 'Greeley',\n        'storeState': 'CO'},\n       {'sampleUnitId': 320360,\n        'purchaseDate': '8/25/2011',\n        'storeCity': 'Dodge City',\n        'storeState': 'KS'},\n       {'sampleUnitId': 320361,\n        'purchaseDate': '8/25/2011',\n        'storeCity': 'Dodge City',\n        'storeState': 'KS'},\n       {'sampleUnitId': 320371,\n        'purchaseDate': '8/25/2011',\n        'storeCity': 'Dodge City',\n        'storeState': 'KS'},\n       {'sampleUnitId': 320372,\n        'purchaseDate': '8/25/2011',\n        'storeCity': 'Dodge City',\n        'storeState': 'KS'},\n       {'sampleUnitId': 320368,\n        'purchaseDate': '7/14/2011',\n        'storeCity': 'Omaha',\n        'storeState': 'NE'},\n       {'sampleUnitId': 320379,\n        'purchaseDate': '7/14/2011',\n        'storeCity': 'Omaha',\n        'storeState': 'NE'},\n       {'sampleUnitId': 320354,\n        'purchaseDate': '7/12/2011',\n        'storeCity': 'Green Bay',\n        'storeState': 'WI'},\n       {'sampleUnitId': 320355,\n        'purchaseDate': '7/12/2011',\n        'storeCity': 'Green Bay',\n        'storeState': 'WI'}],\n      'labMethodDescription': 'AOAC 996.06',\n      'labMethodTechnique': 'GLC',\n      'labMethodOriginalDescription': '996.06 (41.1.28A) Fat (Total, Saturated and Monounsaturated) in foods',\n      'labMethodLink': 'http://www.aoac.org/aoac_prod_imis/AOAC/AOAC_Member/PUBSCF/OMACF/OMAP_M.aspx'},\n     {'subSampleId': 320399,\n      'amount': 0.011,\n      'nutrientId': 1306,\n      'nutrientAcquisitionDetails': [{'sampleUnitId': 320373,\n        'purchaseDate': '8/25/2011',\n        'storeCity': 'Dodge City',\n        'storeState': 'KS'},\n       {'sampleUnitId': 320362,\n        'purchaseDate': '8/25/2011',\n        'storeCity': 'Dodge City',\n        'storeState': 'KS'},\n       {'sampleUnitId': 320367,\n        'purchaseDate': '7/14/2011',\n        'storeCity': 'Omaha',\n        'storeState': 'NE'},\n       {'sampleUnitId': 320378,\n        'purchaseDate': '7/14/2011',\n        'storeCity': 'Omaha',\n        'storeState': 'NE'},\n       {'sampleUnitId': 320374,\n        'purchaseDate': '7/26/2011',\n        'storeCity': 'Corpus Christi',\n        'storeState': 'TX'},\n       {'sampleUnitId': 320363,\n        'purchaseDate': '7/26/2011',\n        'storeCity': 'Corpus Christi',\n        'storeState': 'TX'},\n       {'sampleUnitId': 320376,\n        'purchaseDate': '7/14/2011',\n        'storeCity': 'Plainview',\n        'storeState': 'TX'},\n       {'sampleUnitId': 320366,\n        'purchaseDate': '7/14/2011',\n        'storeCity': 'Plainview',\n        'storeState': 'TX'},\n       {'sampleUnitId': 320377,\n        'purchaseDate': '7/14/2011',\n        'storeCity': 'Plainview',\n        'storeState': 'TX'},\n       {'sampleUnitId': 320365,\n        'purchaseDate': '7/14/2011',\n        'storeCity': 'Plainview',\n        'storeState': 'TX'},\n       {'sampleUnitId': 320364,\n        'purchaseDate': '7/14/2011',\n        'storeCity': 'Green Bay',\n        'storeState': 'WI'},\n       {'sampleUnitId': 320375,\n        'purchaseDate': '7/14/2011',\n        'storeCity': 'Green Bay',\n        'storeState': 'WI'}],\n      'labMethodDescription': 'AOAC 996.06',\n      'labMethodTechnique': 'GLC',\n      'labMethodOriginalDescription': '996.06 (41.1.28A) Fat (Total, Saturated and Monounsaturated) in foods',\n      'labMethodLink': 'http://www.aoac.org/aoac_prod_imis/AOAC/AOAC_Member/PUBSCF/OMACF/OMAP_M.aspx'}],\n    'amount': 0.011,\n    'minYearAcquired': 2011},\n   {'type': 'FoodNutrient',\n    'id': 8514091,\n    'nutrient': {'id': 1253,\n     'number': '601',\n     'name': 'Cholesterol',\n     'rank': 15700,\n     'unitName': 'mg'},\n    'dataPoints': 2,\n    'foodNutrientDerivation': {'id': 1,\n     'code': 'A',\n     'description': 'Analytical',\n     'foodNutrientSource': {'id': 1,\n      'code': '1',\n      'description': 'Analytical or derived from analytical'}},\n    'max': 67.0,\n    'min': 57.0,\n    'median': 62.0,\n    'nutrientAnalysisDetails': [{'subSampleId': 320387,\n      'amount': 57.0,\n      'nutrientId': 1253,\n      'nutrientAcquisitionDetails': [{'sampleUnitId': 320358,\n        'purchaseDate': '7/8/2011',\n        'storeCity': 'Greeley',\n        'storeState': 'CO'},\n       {'sampleUnitId': 320359,\n        'purchaseDate': '7/8/2011',\n        'storeCity': 'Greeley',\n        'storeState': 'CO'},\n       {'sampleUnitId': 320369,\n        'purchaseDate': '7/8/2011',\n        'storeCity': 'Greeley',\n        'storeState': 'CO'},\n       {'sampleUnitId': 320370,\n        'purchaseDate': '7/8/2011',\n        'storeCity': 'Greeley',\n        'storeState': 'CO'},\n       {'sampleUnitId': 320360,\n        'purchaseDate': '8/25/2011',\n        'storeCity': 'Dodge City',\n        'storeState': 'KS'},\n       {'sampleUnitId': 320361,\n        'purchaseDate': '8/25/2011',\n        'storeCity': 'Dodge City',\n        'storeState': 'KS'},\n       {'sampleUnitId': 320371,\n        'purchaseDate': '8/25/2011',\n        'storeCity': 'Dodge City',\n        'storeState': 'KS'},\n       {'sampleUnitId': 320372,\n        'purchaseDate': '8/25/2011',\n        'storeCity': 'Dodge City',\n        'storeState': 'KS'},\n       {'sampleUnitId': 320368,\n        'purchaseDate': '7/14/2011',\n        'storeCity': 'Omaha',\n        'storeState': 'NE'},\n       {'sampleUnitId': 320379,\n        'purchaseDate': '7/14/2011',\n        'storeCity': 'Omaha',\n        'storeState': 'NE'},\n       {'sampleUnitId': 320354,\n        'purchaseDate': '7/12/2011',\n        'storeCity': 'Green Bay',\n        'storeState': 'WI'},\n       {'sampleUnitId': 320355,\n        'purchaseDate': '7/12/2011',\n        'storeCity': 'Green Bay',\n        'storeState': 'WI'}],\n      'labMethodDescription': 'doi.org/10.1016/j.jfca.2008.02.001',\n      'labMethodTechnique': 'GC/Direct saponification',\n      'labMethodOriginalDescription': 'Dinh et al. J Food Comp Anal, 21 (2008) p306-314',\n      'labMethodLink': 'https://www.infona.pl/resource/bwmeta1.element.elsevier-1a527f13-9f91-3110-bf41-c3c946084ed7'},\n     {'subSampleId': 320398,\n      'amount': 67.0,\n      'nutrientId': 1253,\n      'nutrientAcquisitionDetails': [{'sampleUnitId': 320362,\n        'purchaseDate': '8/25/2011',\n        'storeCity': 'Dodge City',\n        'storeState': 'KS'},\n       {'sampleUnitId': 320373,\n        'purchaseDate': '8/25/2011',\n        'storeCity': 'Dodge City',\n        'storeState': 'KS'},\n       {'sampleUnitId': 320367,\n        'purchaseDate': '7/14/2011',\n        'storeCity': 'Omaha',\n        'storeState': 'NE'},\n       {'sampleUnitId': 320378,\n        'purchaseDate': '7/14/2011',\n        'storeCity': 'Omaha',\n        'storeState': 'NE'},\n       {'sampleUnitId': 320374,\n        'purchaseDate': '7/26/2011',\n        'storeCity': 'Corpus Christi',\n        'storeState': 'TX'},\n       {'sampleUnitId': 320363,\n        'purchaseDate': '7/26/2011',\n        'storeCity': 'Corpus Christi',\n        'storeState': 'TX'},\n       {'sampleUnitId': 320377,\n        'purchaseDate': '7/14/2011',\n        'storeCity': 'Plainview',\n        'storeState': 'TX'},\n       {'sampleUnitId': 320365,\n        'purchaseDate': '7/14/2011',\n        'storeCity': 'Plainview',\n        'storeState': 'TX'},\n       {'sampleUnitId': 320376,\n        'purchaseDate': '7/14/2011',\n        'storeCity': 'Plainview',\n        'storeState': 'TX'},\n       {'sampleUnitId': 320366,\n        'purchaseDate': '7/14/2011',\n        'storeCity': 'Plainview',\n        'storeState': 'TX'},\n       {'sampleUnitId': 320364,\n        'purchaseDate': '7/14/2011',\n        'storeCity': 'Green Bay',\n        'storeState': 'WI'},\n       {'sampleUnitId': 320375,\n        'purchaseDate': '7/14/2011',\n        'storeCity': 'Green Bay',\n        'storeState': 'WI'}],\n      'labMethodDescription': 'doi.org/10.1016/j.jfca.2008.02.001',\n      'labMethodTechnique': 'GC/Direct saponification',\n      'labMethodOriginalDescription': 'Dinh et al. J Food Comp Anal, 21 (2008) p306-314',\n      'labMethodLink': 'https://www.infona.pl/resource/bwmeta1.element.elsevier-1a527f13-9f91-3110-bf41-c3c946084ed7'}],\n    'amount': 62.0,\n    'minYearAcquired': 2011}],\n  'foodComponents': [{'id': 59933,\n    'name': 'Bone and connective tissue',\n    'percentWeight': 0.6,\n    'gramWeight': 1.6,\n    'dataPoints': 96,\n    'isRefuse': True,\n    'minYearAcquired': 2011},\n   {'id': 59934,\n    'name': 'External fat',\n    'percentWeight': 0.9,\n    'gramWeight': 2.7,\n    'dataPoints': 96,\n    'isRefuse': True,\n    'minYearAcquired': 2011},\n   {'id': 59935,\n    'name': 'Handling loss',\n    'percentWeight': 0.4,\n    'gramWeight': 1.2,\n    'dataPoints': 96,\n    'isRefuse': False,\n    'minYearAcquired': 2011},\n   {'id': 59936,\n    'name': 'Seam fat',\n    'percentWeight': 0.1,\n    'gramWeight': 0.3,\n    'dataPoints': 96,\n    'isRefuse': True,\n    'minYearAcquired': 2011},\n   {'id': 59937,\n    'name': 'Separable Lean',\n    'percentWeight': 98.3,\n    'gramWeight': 284.0,\n    'dataPoints': 96,\n    'isRefuse': False,\n    'minYearAcquired': 2011},\n   {'id': 59938,\n    'name': 'Total gram weight',\n    'percentWeight': 100.0,\n    'gramWeight': 289.0,\n    'dataPoints': 96,\n    'isRefuse': False,\n    'minYearAcquired': 2011}],\n  'foodAttributes': [{'id': 290891,\n    'value': 'Eye of Round Roast, URMIS # 1480',\n    'foodAttributeType': {'id': 1000,\n     'name': 'Common Name',\n     'description': 'Common names associated with a food.'}}],\n  'tableAliasName': 'foundation_food',\n  'nutrientConversionFactors': [{'type': '.ProteinConversionFactor',\n    'id': 22658,\n    'value': 6.25},\n   {'type': '.CalorieConversionFactor',\n    'id': 22657,\n    'name': 'Calories From Proximates',\n    'proteinValue': 4.27,\n    'fatValue': 9.02,\n    'carbohydrateValue': 3.87}],\n  'isHistoricalReference': False,\n  'ndbNumber': 23362,\n  'footnote': 'Source number reflects the actual number of samples analyzed for a nutrient. Repeat nutrient analyses may have been done on the same sample with the values shown.',\n  'fdcId': 746760,\n  'dataType': 'Foundation',\n  'publicationDate': '12/16/2019',\n  'foodCategory': {'id': 13, 'code': '1300', 'description': 'Beef Products'},\n  'foodPortions': [{'id': 187490,\n    'measureUnit': {'id': 1046, 'name': 'roast', 'abbreviation': 'roast'},\n    'modifier': 'raw',\n    'gramWeight': 690.0,\n    'dataPoints': 24,\n    'amount': 1.0,\n    'minYearAcquired': 2011,\n    'sequenceNumber': 1}],\n  'inputFoods': [{'id': 45207,\n    'foodDescription': 'Beef, Eye of Round roast/steak, lean only, raw, animal 5, select',\n    'inputFood': {'foodClass': 'Composite',\n     'description': 'Beef, Eye of Round roast/steak, lean only, raw, animal 5, select',\n     'tableAliasName': 'sample_food',\n     'fdcId': 320353,\n     'dataType': 'Sample',\n     'publicationDate': '4/1/2019',\n     'foodCategory': {'id': 13,\n      'code': '1300',\n      'description': 'Beef Products'}}},\n   {'id': 45208,\n    'foodDescription': 'Beef,  Eye of Round roast/steak, select, raw, comp13, lean (36BRERS/37BRERRS)',\n    'inputFood': {'foodClass': 'Composite',\n     'description': 'Beef,  Eye of Round roast/steak, select, raw, comp13, lean (36BRERS/37BRERRS)',\n     'tableAliasName': 'sample_food',\n     'fdcId': 320357,\n     'dataType': 'Sample',\n     'publicationDate': '4/1/2019',\n     'foodCategory': {'id': 13,\n      'code': '1300',\n      'description': 'Beef Products'}}},\n   {'id': 45209,\n    'foodDescription': 'Beef, Eye of Round roast/steak, lean only, raw, animal 10, select',\n    'inputFood': {'foodClass': 'Composite',\n     'description': 'Beef, Eye of Round roast/steak, lean only, raw, animal 10, select',\n     'tableAliasName': 'sample_food',\n     'fdcId': 320382,\n     'dataType': 'Sample',\n     'publicationDate': '4/1/2019',\n     'foodCategory': {'id': 13,\n      'code': '1300',\n      'description': 'Beef Products'}}},\n   {'id': 45210,\n    'foodDescription': 'Beef, Eye of Round roast/steak, select, raw, comp5, lean (36BRERS/37BRERRS)',\n    'inputFood': {'foodClass': 'Composite',\n     'description': 'Beef, Eye of Round roast/steak, select, raw, comp5, lean (36BRERS/37BRERRS)',\n     'tableAliasName': 'sample_food',\n     'fdcId': 320384,\n     'dataType': 'Sample',\n     'publicationDate': '4/1/2019',\n     'foodCategory': {'id': 13,\n      'code': '1300',\n      'description': 'Beef Products'}}},\n   {'id': 45211,\n    'foodDescription': 'Beef, Eye of Round roast/steak, lean only, raw, animal 11, select',\n    'inputFood': {'foodClass': 'Composite',\n     'description': 'Beef, Eye of Round roast/steak, lean only, raw, animal 11, select',\n     'tableAliasName': 'sample_food',\n     'fdcId': 320388,\n     'dataType': 'Sample',\n     'publicationDate': '4/1/2019',\n     'foodCategory': {'id': 13,\n      'code': '1300',\n      'description': 'Beef Products'}}},\n   {'id': 45212,\n    'foodDescription': 'Beef, Eye of Round roast/steak, lean only, raw, animal 16, select',\n    'inputFood': {'foodClass': 'Composite',\n     'description': 'Beef, Eye of Round roast/steak, lean only, raw, animal 16, select',\n     'tableAliasName': 'sample_food',\n     'fdcId': 320390,\n     'dataType': 'Sample',\n     'publicationDate': '4/1/2019',\n     'foodCategory': {'id': 13,\n      'code': '1300',\n      'description': 'Beef Products'}}},\n   {'id': 45213,\n    'foodDescription': 'Beef, Eye of Round roast/steak, lean only, raw, animal 17, select',\n    'inputFood': {'foodClass': 'Composite',\n     'description': 'Beef, Eye of Round roast/steak, lean only, raw, animal 17, select',\n     'tableAliasName': 'sample_food',\n     'fdcId': 320392,\n     'dataType': 'Sample',\n     'publicationDate': '4/1/2019',\n     'foodCategory': {'id': 13,\n      'code': '1300',\n      'description': 'Beef Products'}}},\n   {'id': 45214,\n    'foodDescription': 'Beef, Eye of Round roast/steak, lean only, raw, animal 18, select',\n    'inputFood': {'foodClass': 'Composite',\n     'description': 'Beef, Eye of Round roast/steak, lean only, raw, animal 18, select',\n     'tableAliasName': 'sample_food',\n     'fdcId': 320394,\n     'dataType': 'Sample',\n     'publicationDate': '4/1/2019',\n     'foodCategory': {'id': 13,\n      'code': '1300',\n      'description': 'Beef Products'}}},\n   {'id': 45215,\n    'foodDescription': 'Beef, Eye of Round roast/steak, select, raw, comp6, lean (36BRERS/37BRERRS)',\n    'inputFood': {'foodClass': 'Composite',\n     'description': 'Beef, Eye of Round roast/steak, select, raw, comp6, lean (36BRERS/37BRERRS)',\n     'tableAliasName': 'sample_food',\n     'fdcId': 320396,\n     'dataType': 'Sample',\n     'publicationDate': '4/1/2019',\n     'foodCategory': {'id': 13,\n      'code': '1300',\n      'description': 'Beef Products'}}},\n   {'id': 45216,\n    'foodDescription': 'Beef, Eye of Round roast/steak, lean only, raw, animal 22, select',\n    'inputFood': {'foodClass': 'Composite',\n     'description': 'Beef, Eye of Round roast/steak, lean only, raw, animal 22, select',\n     'tableAliasName': 'sample_food',\n     'fdcId': 320400,\n     'dataType': 'Sample',\n     'publicationDate': '4/1/2019',\n     'foodCategory': {'id': 13,\n      'code': '1300',\n      'description': 'Beef Products'}}},\n   {'id': 45217,\n    'foodDescription': 'Beef, Eye of Round roast/steak, lean only, raw, animal 23, select',\n    'inputFood': {'foodClass': 'Composite',\n     'description': 'Beef, Eye of Round roast/steak, lean only, raw, animal 23, select',\n     'tableAliasName': 'sample_food',\n     'fdcId': 320402,\n     'dataType': 'Sample',\n     'publicationDate': '4/1/2019',\n     'foodCategory': {'id': 13,\n      'code': '1300',\n      'description': 'Beef Products'}}},\n   {'id': 45218,\n    'foodDescription': 'Beef, Eye of Round roast/steak, lean only, raw, animal 28, select',\n    'inputFood': {'foodClass': 'Composite',\n     'description': 'Beef, Eye of Round roast/steak, lean only, raw, animal 28, select',\n     'tableAliasName': 'sample_food',\n     'fdcId': 320404,\n     'dataType': 'Sample',\n     'publicationDate': '4/1/2019',\n     'foodCategory': {'id': 13,\n      'code': '1300',\n      'description': 'Beef Products'}}},\n   {'id': 45219,\n    'foodDescription': 'Beef, Eye of Round roast/steak, lean only, raw, animal 29, select',\n    'inputFood': {'foodClass': 'Composite',\n     'description': 'Beef, Eye of Round roast/steak, lean only, raw, animal 29, select',\n     'tableAliasName': 'sample_food',\n     'fdcId': 320406,\n     'dataType': 'Sample',\n     'publicationDate': '4/1/2019',\n     'foodCategory': {'id': 13,\n      'code': '1300',\n      'description': 'Beef Products'}}},\n   {'id': 45220,\n    'foodDescription': 'Beef, Eye of Round roast/steak, lean only, raw, animal 35, select',\n    'inputFood': {'foodClass': 'Composite',\n     'description': 'Beef, Eye of Round roast/steak, lean only, raw, animal 35, select',\n     'tableAliasName': 'sample_food',\n     'fdcId': 320408,\n     'dataType': 'Sample',\n     'publicationDate': '4/1/2019',\n     'foodCategory': {'id': 13,\n      'code': '1300',\n      'description': 'Beef Products'}}},\n   {'id': 45221,\n    'foodDescription': 'Beef, Eye of Round roast/steak, lean only, raw, animal 36, select',\n    'inputFood': {'foodClass': 'Composite',\n     'description': 'Beef, Eye of Round roast/steak, lean only, raw, animal 36, select',\n     'tableAliasName': 'sample_food',\n     'fdcId': 320410,\n     'dataType': 'Sample',\n     'publicationDate': '4/1/2019',\n     'foodCategory': {'id': 13,\n      'code': '1300',\n      'description': 'Beef Products'}}}],\n  'foodUpdateLog': [{'foodClass': 'FinalFood',\n    'description': 'Beef, round, eye of round roast, boneless, separable lean only, trimmed to 0\" fat, select, raw',\n    'foodAttributes': [{'id': 290891,\n      'value': 'Eye of Round Roast, URMIS # 1480',\n      'foodAttributeType': {'id': 1000,\n       'name': 'Common Name',\n       'description': 'Common names associated with a food.'}}],\n    'tableAliasName': 'foundation_food',\n    'isHistoricalReference': False,\n    'ndbNumber': 23362,\n    'fdcId': 746760,\n    'dataType': 'Foundation',\n    'publicationDate': '12/16/2019',\n    'foodCategory': {'id': 13, 'code': '1300', 'description': 'Beef Products'},\n    'changes': ''},\n   {'foodClass': 'FinalFood',\n    'description': 'Beef, round, eye of round roast, boneless, separable lean only, trimmed to 0\" fat, select, raw',\n    'foodAttributes': [{'id': 5584,\n      'value': 'Eye of Round Roast, URMIS # 1480',\n      'foodAttributeType': {'id': 1000,\n       'name': 'Common Name',\n       'description': 'Common names associated with a food.'},\n      'sequenceNumber': 0}],\n    'tableAliasName': 'foundation_food',\n    'isHistoricalReference': False,\n    'ndbNumber': 23362,\n    'fdcId': 334898,\n    'dataType': 'Foundation',\n    'publicationDate': '4/1/2019',\n    'foodCategory': {'id': 13, 'code': '1300', 'description': 'Beef Products'},\n    'changes': ''}],\n  'changes': ''}]"
     },
     "execution_count": 28,
     "metadata": {},
     "output_type": "execute_result"
    }
   ],
   "source": [
    "fdc_details"
   ]
  },
  {
   "cell_type": "code",
   "execution_count": null,
   "metadata": {},
   "outputs": [],
   "source": []
  }
 ]
}